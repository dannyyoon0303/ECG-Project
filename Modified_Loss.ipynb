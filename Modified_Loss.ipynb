{
  "cells": [
    {
      "cell_type": "markdown",
      "metadata": {
        "id": "view-in-github",
        "colab_type": "text"
      },
      "source": [
        "<a href=\"https://colab.research.google.com/github/dannyyoon0303/ECG-Project/blob/main/Modified_Loss.ipynb\" target=\"_parent\"><img src=\"https://colab.research.google.com/assets/colab-badge.svg\" alt=\"Open In Colab\"/></a>"
      ]
    },
    {
      "cell_type": "code",
      "execution_count": null,
      "metadata": {
        "colab": {
          "base_uri": "https://localhost:8080/"
        },
        "id": "SkH6J45_6ko9",
        "outputId": "f9f37808-0f4c-45ff-da84-0d7e9554880e"
      },
      "outputs": [
        {
          "output_type": "stream",
          "name": "stdout",
          "text": [
            "Mounted at /content/drive\n"
          ]
        }
      ],
      "source": [
        "from google.colab import drive\n",
        "drive.mount('/content/drive')"
      ]
    },
    {
      "cell_type": "code",
      "source": [
        "! pip install neurokit2\n",
        "!pip install tensorflow==2.8\n",
        "!apt install --allow-change-held-packages libcudnn8=8.1.0.77-1+cuda11.2"
      ],
      "metadata": {
        "colab": {
          "base_uri": "https://localhost:8080/"
        },
        "id": "5gph5t67_w1g",
        "outputId": "549e0d80-75d0-4d30-9a1b-e6cb589d5de3"
      },
      "execution_count": null,
      "outputs": [
        {
          "output_type": "stream",
          "name": "stdout",
          "text": [
            "Looking in indexes: https://pypi.org/simple, https://us-python.pkg.dev/colab-wheels/public/simple/\n",
            "Collecting neurokit2\n",
            "  Downloading neurokit2-0.2.1-py2.py3-none-any.whl (1.2 MB)\n",
            "\u001b[K     |████████████████████████████████| 1.2 MB 9.3 MB/s \n",
            "\u001b[?25hRequirement already satisfied: pandas in /usr/local/lib/python3.7/dist-packages (from neurokit2) (1.3.5)\n",
            "Requirement already satisfied: numpy in /usr/local/lib/python3.7/dist-packages (from neurokit2) (1.21.6)\n",
            "Requirement already satisfied: matplotlib in /usr/local/lib/python3.7/dist-packages (from neurokit2) (3.2.2)\n",
            "Requirement already satisfied: scikit-learn>=1.0.0 in /usr/local/lib/python3.7/dist-packages (from neurokit2) (1.0.2)\n",
            "Requirement already satisfied: scipy in /usr/local/lib/python3.7/dist-packages (from neurokit2) (1.7.3)\n",
            "Requirement already satisfied: joblib>=0.11 in /usr/local/lib/python3.7/dist-packages (from scikit-learn>=1.0.0->neurokit2) (1.1.0)\n",
            "Requirement already satisfied: threadpoolctl>=2.0.0 in /usr/local/lib/python3.7/dist-packages (from scikit-learn>=1.0.0->neurokit2) (3.1.0)\n",
            "Requirement already satisfied: python-dateutil>=2.1 in /usr/local/lib/python3.7/dist-packages (from matplotlib->neurokit2) (2.8.2)\n",
            "Requirement already satisfied: pyparsing!=2.0.4,!=2.1.2,!=2.1.6,>=2.0.1 in /usr/local/lib/python3.7/dist-packages (from matplotlib->neurokit2) (3.0.9)\n",
            "Requirement already satisfied: cycler>=0.10 in /usr/local/lib/python3.7/dist-packages (from matplotlib->neurokit2) (0.11.0)\n",
            "Requirement already satisfied: kiwisolver>=1.0.1 in /usr/local/lib/python3.7/dist-packages (from matplotlib->neurokit2) (1.4.4)\n",
            "Requirement already satisfied: typing-extensions in /usr/local/lib/python3.7/dist-packages (from kiwisolver>=1.0.1->matplotlib->neurokit2) (4.1.1)\n",
            "Requirement already satisfied: six>=1.5 in /usr/local/lib/python3.7/dist-packages (from python-dateutil>=2.1->matplotlib->neurokit2) (1.15.0)\n",
            "Requirement already satisfied: pytz>=2017.3 in /usr/local/lib/python3.7/dist-packages (from pandas->neurokit2) (2022.2.1)\n",
            "Installing collected packages: neurokit2\n",
            "Successfully installed neurokit2-0.2.1\n",
            "Looking in indexes: https://pypi.org/simple, https://us-python.pkg.dev/colab-wheels/public/simple/\n",
            "Collecting tensorflow==2.8\n",
            "  Downloading https://us-python.pkg.dev/colab-wheels/public/tensorflow/tensorflow-2.8.0%2Bzzzcolab20220506162203-cp37-cp37m-linux_x86_64.whl (668.3 MB)\n",
            "\u001b[K     |████████████████████████████████| 668.3 MB 19 kB/s \n",
            "\u001b[?25hCollecting tf-estimator-nightly==2.8.0.dev2021122109\n",
            "  Downloading tf_estimator_nightly-2.8.0.dev2021122109-py2.py3-none-any.whl (462 kB)\n",
            "\u001b[K     |████████████████████████████████| 462 kB 7.7 MB/s \n",
            "\u001b[?25hRequirement already satisfied: libclang>=9.0.1 in /usr/local/lib/python3.7/dist-packages (from tensorflow==2.8) (14.0.6)\n",
            "Requirement already satisfied: h5py>=2.9.0 in /usr/local/lib/python3.7/dist-packages (from tensorflow==2.8) (3.1.0)\n",
            "Requirement already satisfied: gast>=0.2.1 in /usr/local/lib/python3.7/dist-packages (from tensorflow==2.8) (0.5.3)\n",
            "Requirement already satisfied: termcolor>=1.1.0 in /usr/local/lib/python3.7/dist-packages (from tensorflow==2.8) (1.1.0)\n",
            "Requirement already satisfied: absl-py>=0.4.0 in /usr/local/lib/python3.7/dist-packages (from tensorflow==2.8) (1.2.0)\n",
            "Requirement already satisfied: setuptools in /usr/local/lib/python3.7/dist-packages (from tensorflow==2.8) (57.4.0)\n",
            "Requirement already satisfied: grpcio<2.0,>=1.24.3 in /usr/local/lib/python3.7/dist-packages (from tensorflow==2.8) (1.48.1)\n",
            "Requirement already satisfied: tensorflow-io-gcs-filesystem>=0.23.1 in /usr/local/lib/python3.7/dist-packages (from tensorflow==2.8) (0.26.0)\n",
            "Requirement already satisfied: flatbuffers>=1.12 in /usr/local/lib/python3.7/dist-packages (from tensorflow==2.8) (2.0.7)\n",
            "Requirement already satisfied: keras-preprocessing>=1.1.1 in /usr/local/lib/python3.7/dist-packages (from tensorflow==2.8) (1.1.2)\n",
            "Requirement already satisfied: protobuf>=3.9.2 in /usr/local/lib/python3.7/dist-packages (from tensorflow==2.8) (3.17.3)\n",
            "Requirement already satisfied: keras<2.9,>=2.8.0rc0 in /usr/local/lib/python3.7/dist-packages (from tensorflow==2.8) (2.8.0)\n",
            "Requirement already satisfied: opt-einsum>=2.3.2 in /usr/local/lib/python3.7/dist-packages (from tensorflow==2.8) (3.3.0)\n",
            "Requirement already satisfied: six>=1.12.0 in /usr/local/lib/python3.7/dist-packages (from tensorflow==2.8) (1.15.0)\n",
            "Requirement already satisfied: google-pasta>=0.1.1 in /usr/local/lib/python3.7/dist-packages (from tensorflow==2.8) (0.2.0)\n",
            "Requirement already satisfied: typing-extensions>=3.6.6 in /usr/local/lib/python3.7/dist-packages (from tensorflow==2.8) (4.1.1)\n",
            "Requirement already satisfied: tensorboard<2.9,>=2.8 in /usr/local/lib/python3.7/dist-packages (from tensorflow==2.8) (2.8.0)\n",
            "Requirement already satisfied: numpy>=1.20 in /usr/local/lib/python3.7/dist-packages (from tensorflow==2.8) (1.21.6)\n",
            "Requirement already satisfied: astunparse>=1.6.0 in /usr/local/lib/python3.7/dist-packages (from tensorflow==2.8) (1.6.3)\n",
            "Requirement already satisfied: wrapt>=1.11.0 in /usr/local/lib/python3.7/dist-packages (from tensorflow==2.8) (1.14.1)\n",
            "Requirement already satisfied: wheel<1.0,>=0.23.0 in /usr/local/lib/python3.7/dist-packages (from astunparse>=1.6.0->tensorflow==2.8) (0.37.1)\n",
            "Requirement already satisfied: cached-property in /usr/local/lib/python3.7/dist-packages (from h5py>=2.9.0->tensorflow==2.8) (1.5.2)\n",
            "Requirement already satisfied: markdown>=2.6.8 in /usr/local/lib/python3.7/dist-packages (from tensorboard<2.9,>=2.8->tensorflow==2.8) (3.4.1)\n",
            "Requirement already satisfied: google-auth-oauthlib<0.5,>=0.4.1 in /usr/local/lib/python3.7/dist-packages (from tensorboard<2.9,>=2.8->tensorflow==2.8) (0.4.6)\n",
            "Requirement already satisfied: google-auth<3,>=1.6.3 in /usr/local/lib/python3.7/dist-packages (from tensorboard<2.9,>=2.8->tensorflow==2.8) (1.35.0)\n",
            "Requirement already satisfied: werkzeug>=0.11.15 in /usr/local/lib/python3.7/dist-packages (from tensorboard<2.9,>=2.8->tensorflow==2.8) (1.0.1)\n",
            "Requirement already satisfied: tensorboard-data-server<0.7.0,>=0.6.0 in /usr/local/lib/python3.7/dist-packages (from tensorboard<2.9,>=2.8->tensorflow==2.8) (0.6.1)\n",
            "Requirement already satisfied: requests<3,>=2.21.0 in /usr/local/lib/python3.7/dist-packages (from tensorboard<2.9,>=2.8->tensorflow==2.8) (2.23.0)\n",
            "Requirement already satisfied: tensorboard-plugin-wit>=1.6.0 in /usr/local/lib/python3.7/dist-packages (from tensorboard<2.9,>=2.8->tensorflow==2.8) (1.8.1)\n",
            "Requirement already satisfied: pyasn1-modules>=0.2.1 in /usr/local/lib/python3.7/dist-packages (from google-auth<3,>=1.6.3->tensorboard<2.9,>=2.8->tensorflow==2.8) (0.2.8)\n",
            "Requirement already satisfied: rsa<5,>=3.1.4 in /usr/local/lib/python3.7/dist-packages (from google-auth<3,>=1.6.3->tensorboard<2.9,>=2.8->tensorflow==2.8) (4.9)\n",
            "Requirement already satisfied: cachetools<5.0,>=2.0.0 in /usr/local/lib/python3.7/dist-packages (from google-auth<3,>=1.6.3->tensorboard<2.9,>=2.8->tensorflow==2.8) (4.2.4)\n",
            "Requirement already satisfied: requests-oauthlib>=0.7.0 in /usr/local/lib/python3.7/dist-packages (from google-auth-oauthlib<0.5,>=0.4.1->tensorboard<2.9,>=2.8->tensorflow==2.8) (1.3.1)\n",
            "Requirement already satisfied: importlib-metadata>=4.4 in /usr/local/lib/python3.7/dist-packages (from markdown>=2.6.8->tensorboard<2.9,>=2.8->tensorflow==2.8) (4.12.0)\n",
            "Requirement already satisfied: zipp>=0.5 in /usr/local/lib/python3.7/dist-packages (from importlib-metadata>=4.4->markdown>=2.6.8->tensorboard<2.9,>=2.8->tensorflow==2.8) (3.8.1)\n",
            "Requirement already satisfied: pyasn1<0.5.0,>=0.4.6 in /usr/local/lib/python3.7/dist-packages (from pyasn1-modules>=0.2.1->google-auth<3,>=1.6.3->tensorboard<2.9,>=2.8->tensorflow==2.8) (0.4.8)\n",
            "Requirement already satisfied: urllib3!=1.25.0,!=1.25.1,<1.26,>=1.21.1 in /usr/local/lib/python3.7/dist-packages (from requests<3,>=2.21.0->tensorboard<2.9,>=2.8->tensorflow==2.8) (1.24.3)\n",
            "Requirement already satisfied: chardet<4,>=3.0.2 in /usr/local/lib/python3.7/dist-packages (from requests<3,>=2.21.0->tensorboard<2.9,>=2.8->tensorflow==2.8) (3.0.4)\n",
            "Requirement already satisfied: idna<3,>=2.5 in /usr/local/lib/python3.7/dist-packages (from requests<3,>=2.21.0->tensorboard<2.9,>=2.8->tensorflow==2.8) (2.10)\n",
            "Requirement already satisfied: certifi>=2017.4.17 in /usr/local/lib/python3.7/dist-packages (from requests<3,>=2.21.0->tensorboard<2.9,>=2.8->tensorflow==2.8) (2022.6.15)\n",
            "Requirement already satisfied: oauthlib>=3.0.0 in /usr/local/lib/python3.7/dist-packages (from requests-oauthlib>=0.7.0->google-auth-oauthlib<0.5,>=0.4.1->tensorboard<2.9,>=2.8->tensorflow==2.8) (3.2.0)\n",
            "Installing collected packages: tf-estimator-nightly, tensorflow\n",
            "  Attempting uninstall: tensorflow\n",
            "    Found existing installation: tensorflow 2.8.2+zzzcolab20220719082949\n",
            "    Uninstalling tensorflow-2.8.2+zzzcolab20220719082949:\n",
            "      Successfully uninstalled tensorflow-2.8.2+zzzcolab20220719082949\n",
            "Successfully installed tensorflow-2.8.0+zzzcolab20220506162203 tf-estimator-nightly-2.8.0.dev2021122109\n",
            "Reading package lists... Done\n",
            "Building dependency tree       \n",
            "Reading state information... Done\n",
            "The following package was automatically installed and is no longer required:\n",
            "  libnvidia-common-460\n",
            "Use 'apt autoremove' to remove it.\n",
            "The following packages will be REMOVED:\n",
            "  libcudnn8-dev\n",
            "The following held packages will be changed:\n",
            "  libcudnn8\n",
            "The following packages will be upgraded:\n",
            "  libcudnn8\n",
            "1 upgraded, 0 newly installed, 1 to remove and 18 not upgraded.\n",
            "Need to get 430 MB of archives.\n",
            "After this operation, 3,139 MB disk space will be freed.\n",
            "Get:1 https://developer.download.nvidia.com/compute/cuda/repos/ubuntu1804/x86_64  libcudnn8 8.1.0.77-1+cuda11.2 [430 MB]\n",
            "Fetched 430 MB in 7s (63.1 MB/s)\n",
            "(Reading database ... 159447 files and directories currently installed.)\n",
            "Removing libcudnn8-dev (8.0.5.39-1+cuda11.1) ...\n",
            "(Reading database ... 159425 files and directories currently installed.)\n",
            "Preparing to unpack .../libcudnn8_8.1.0.77-1+cuda11.2_amd64.deb ...\n",
            "Unpacking libcudnn8 (8.1.0.77-1+cuda11.2) over (8.0.5.39-1+cuda11.1) ...\n",
            "Setting up libcudnn8 (8.1.0.77-1+cuda11.2) ...\n"
          ]
        }
      ]
    },
    {
      "cell_type": "code",
      "execution_count": null,
      "metadata": {
        "id": "1RWMyNXpAUrC"
      },
      "outputs": [],
      "source": [
        "import pandas as pd\n",
        "import numpy as np\n",
        "import neurokit2 as nk\n",
        "import tensorflow as tf \n",
        "from keras import optimizers, losses, activations, models\n",
        "from keras.callbacks import ModelCheckpoint, EarlyStopping, LearningRateScheduler, ReduceLROnPlateau\n",
        "from keras.layers import Dense, Input, Dropout, Convolution1D, MaxPool1D, GlobalMaxPool1D, GlobalAveragePooling1D, \\\n",
        "    concatenate, Add\n",
        "from sklearn.metrics import f1_score, accuracy_score"
      ]
    },
    {
      "cell_type": "code",
      "execution_count": null,
      "metadata": {
        "id": "5QJNlPeUAVbt",
        "colab": {
          "base_uri": "https://localhost:8080/"
        },
        "outputId": "c21d8247-36dd-44a1-b7c1-d7c0d3bc8363"
      },
      "outputs": [
        {
          "output_type": "stream",
          "name": "stdout",
          "text": [
            "            0         1         2         3         4         5         6    \\\n",
            "1      1.000000  0.693965  0.336207  0.271552  0.250000  0.211207  0.250000   \n",
            "2      0.139535  0.682171  0.782946  0.000000  0.170543  0.472868  0.604651   \n",
            "3      0.944751  0.906077  0.646409  0.414365  0.209945  0.093923  0.060773   \n",
            "4      0.956221  0.898618  0.826037  0.740783  0.625576  0.531106  0.414747   \n",
            "5      0.956416  0.869249  0.290557  0.000000  0.152542  0.251816  0.285714   \n",
            "...         ...       ...       ...       ...       ...       ...       ...   \n",
            "87550  0.968750  1.000000  0.718750  0.368056  0.059028  0.059028  0.142361   \n",
            "87551  1.000000  0.676157  0.064057  0.021352  0.110320  0.092527  0.064057   \n",
            "87552  0.952381  0.935374  0.632653  0.241497  0.010204  0.000000  0.112245   \n",
            "87553  0.835206  0.838951  0.632959  0.284644  0.011236  0.041199  0.153558   \n",
            "87554  1.000000  0.887978  0.494536  0.245902  0.147541  0.125683  0.084699   \n",
            "\n",
            "            7         8         9    ...  183  184  185  186  187       188  \\\n",
            "1      0.254310  0.224138  0.262931  ...  0.0  0.0  0.0  0.0  0.0  1.530465   \n",
            "2      0.604651  0.635659  0.620155  ...  0.0  0.0  0.0  0.0  0.0  1.603813   \n",
            "3      0.088398  0.099448  0.077348  ...  0.0  0.0  0.0  0.0  0.0  1.548877   \n",
            "4      0.332949  0.236175  0.193548  ...  0.0  0.0  0.0  0.0  4.0  1.389392   \n",
            "5      0.288136  0.302663  0.295400  ...  0.0  0.0  0.0  0.0  0.0  1.573206   \n",
            "...         ...       ...       ...  ...  ...  ...  ...  ...  ...       ...   \n",
            "87550  0.229167  0.284722  0.322917  ...  0.0  0.0  0.0  0.0  0.0  1.520045   \n",
            "87551  0.071174  0.064057  0.053381  ...  0.0  0.0  0.0  0.0  0.0  1.767804   \n",
            "87552  0.173469  0.251701  0.241497  ...  0.0  0.0  0.0  0.0  0.0  1.493471   \n",
            "87553  0.220974  0.265918  0.258427  ...  0.0  0.0  0.0  0.0  0.0  1.571261   \n",
            "87554  0.054645  0.032787  0.030055  ...  0.0  0.0  0.0  0.0  0.0  1.687787   \n",
            "\n",
            "            189       190       191       192  \n",
            "1      1.453280  1.022628  4.767442  2.883668  \n",
            "2      1.902441  1.044516  5.199439  3.319249  \n",
            "3      1.467211  1.027952  5.192564  3.085757  \n",
            "4      1.433615  1.016436  4.900914  3.983967  \n",
            "5      1.409957  1.017995  3.767292  2.860872  \n",
            "...         ...       ...       ...       ...  \n",
            "87550  1.438726  1.032076  5.574859  2.912823  \n",
            "87551  1.348661  1.016436  3.287995  2.696607  \n",
            "87552  1.483619  1.035413  5.494558  2.790833  \n",
            "87553  1.597024  1.034304  5.363139  2.829733  \n",
            "87554  1.313509  1.022628  4.034697  2.881848  \n",
            "\n",
            "[87554 rows x 193 columns]\n"
          ]
        }
      ],
      "source": [
        "train_file_path = \"/content/drive/MyDrive/[Project] 윤정현 - ECG/Data/full_training_set(size=87554).csv\"\n",
        "test_file_path = \"/content/drive/MyDrive/[Project] 윤정현 - ECG/Data/full_test_set(size=21892).csv\"\n",
        "\n",
        "df_train = pd.read_csv(train_file_path, header=None)[1:].astype(float)\n",
        "print(df_train)\n",
        "df_train = df_train.sample(frac=1)\n",
        "df_test = pd.read_csv(test_file_path, header=None)[1:].astype(float)\n",
        "\n",
        "Y = np.array(df_train[187].values).astype(np.int8)\n",
        "Y_physical = np.array(df_train[list(range(188, 193))].values)[..., np.newaxis]\n",
        "X = np.array(df_train[list(range(187))].values)[..., np.newaxis]\n",
        "\n",
        "Y_test = np.array(df_test[187].values).astype(np.int8)\n",
        "Y_physical_test = np.array(df_test[list(range(188, 193))].values)[..., np.newaxis]\n",
        "X_test = np.array(df_test[list(range(187))].values)[..., np.newaxis]"
      ]
    },
    {
      "cell_type": "code",
      "execution_count": null,
      "metadata": {
        "id": "Du5NuwNbAad0"
      },
      "outputs": [],
      "source": [
        "def get_model():\n",
        "    nclass = 5\n",
        "    inp = Input(shape=(187, 1))\n",
        "    img_1 = Convolution1D(16, kernel_size=5, activation=activations.relu, padding=\"valid\")(inp)\n",
        "    img_1 = Convolution1D(16, kernel_size=5, activation=activations.relu, padding=\"valid\")(img_1)\n",
        "    img_1 = MaxPool1D(pool_size=2)(img_1)\n",
        "    img_1 = Dropout(rate=0.1)(img_1)\n",
        "    img_1 = Convolution1D(32, kernel_size=3, activation=activations.relu, padding=\"valid\")(img_1)\n",
        "    img_1 = Convolution1D(32, kernel_size=3, activation=activations.relu, padding=\"valid\")(img_1)\n",
        "    img_1 = MaxPool1D(pool_size=2)(img_1)\n",
        "    img_1 = Dropout(rate=0.1)(img_1)\n",
        "    img_1 = Convolution1D(32, kernel_size=3, activation=activations.relu, padding=\"valid\")(img_1)\n",
        "    img_1 = Convolution1D(32, kernel_size=3, activation=activations.relu, padding=\"valid\")(img_1)\n",
        "    img_1 = MaxPool1D(pool_size=2)(img_1)\n",
        "    img_1 = Dropout(rate=0.1)(img_1)\n",
        "    img_1 = Convolution1D(256, kernel_size=3, activation=activations.relu, padding=\"valid\")(img_1)\n",
        "    img_1 = Convolution1D(256, kernel_size=3, activation=activations.relu, padding=\"valid\")(img_1)\n",
        "    img_1 = GlobalMaxPool1D()(img_1)\n",
        "    img_1 = Dropout(rate=0.2)(img_1)\n",
        "    \n",
        "   \n",
        "    dense_1 = Dense(64, activation=activations.relu, name=\"dense_1\")(img_1)\n",
        "    dense_2 = Dense(64, activation=activations.relu, name=\"dense_2\")(dense_1)\n",
        "    dense_3 = Dense(nclass, activation=activations.softmax, name=\"dense_3_mitbih\")(dense_2)\n",
        "    dense_physical = Dense(5, activation=activations.relu, name=\"dense_physical\")(dense_1)\n",
        "\n",
        "    model = models.Model(inputs=inp, outputs=[dense_3, dense_physical])\n",
        "    opt = tf.optimizers.Adam(0.001)\n",
        "\n",
        "    model.compile(optimizer=opt, \n",
        "                  loss={\"dense_3_mitbih\": losses.sparse_categorical_crossentropy, \n",
        "                        \"dense_physical\": \"mean_squared_error\"},\n",
        "                  metrics={\"dense_3_mitbih\": \"acc\",\n",
        "                           \"dense_physical\": \"mse\"}\n",
        "                  )\n",
        "    model.summary()\n",
        "    return model\n"
      ]
    },
    {
      "cell_type": "code",
      "execution_count": null,
      "metadata": {
        "id": "QToWHjC9AdqO",
        "colab": {
          "base_uri": "https://localhost:8080/"
        },
        "outputId": "c9359379-cbf9-41a1-c0a9-9e899c2f6f11"
      },
      "outputs": [
        {
          "output_type": "stream",
          "name": "stdout",
          "text": [
            "Model: \"model\"\n",
            "__________________________________________________________________________________________________\n",
            " Layer (type)                   Output Shape         Param #     Connected to                     \n",
            "==================================================================================================\n",
            " input_1 (InputLayer)           [(None, 187, 1)]     0           []                               \n",
            "                                                                                                  \n",
            " conv1d (Conv1D)                (None, 183, 16)      96          ['input_1[0][0]']                \n",
            "                                                                                                  \n",
            " conv1d_1 (Conv1D)              (None, 179, 16)      1296        ['conv1d[0][0]']                 \n",
            "                                                                                                  \n",
            " max_pooling1d (MaxPooling1D)   (None, 89, 16)       0           ['conv1d_1[0][0]']               \n",
            "                                                                                                  \n",
            " dropout (Dropout)              (None, 89, 16)       0           ['max_pooling1d[0][0]']          \n",
            "                                                                                                  \n",
            " conv1d_2 (Conv1D)              (None, 87, 32)       1568        ['dropout[0][0]']                \n",
            "                                                                                                  \n",
            " conv1d_3 (Conv1D)              (None, 85, 32)       3104        ['conv1d_2[0][0]']               \n",
            "                                                                                                  \n",
            " max_pooling1d_1 (MaxPooling1D)  (None, 42, 32)      0           ['conv1d_3[0][0]']               \n",
            "                                                                                                  \n",
            " dropout_1 (Dropout)            (None, 42, 32)       0           ['max_pooling1d_1[0][0]']        \n",
            "                                                                                                  \n",
            " conv1d_4 (Conv1D)              (None, 40, 32)       3104        ['dropout_1[0][0]']              \n",
            "                                                                                                  \n",
            " conv1d_5 (Conv1D)              (None, 38, 32)       3104        ['conv1d_4[0][0]']               \n",
            "                                                                                                  \n",
            " max_pooling1d_2 (MaxPooling1D)  (None, 19, 32)      0           ['conv1d_5[0][0]']               \n",
            "                                                                                                  \n",
            " dropout_2 (Dropout)            (None, 19, 32)       0           ['max_pooling1d_2[0][0]']        \n",
            "                                                                                                  \n",
            " conv1d_6 (Conv1D)              (None, 17, 256)      24832       ['dropout_2[0][0]']              \n",
            "                                                                                                  \n",
            " conv1d_7 (Conv1D)              (None, 15, 256)      196864      ['conv1d_6[0][0]']               \n",
            "                                                                                                  \n",
            " global_max_pooling1d (GlobalMa  (None, 256)         0           ['conv1d_7[0][0]']               \n",
            " xPooling1D)                                                                                      \n",
            "                                                                                                  \n",
            " dropout_3 (Dropout)            (None, 256)          0           ['global_max_pooling1d[0][0]']   \n",
            "                                                                                                  \n",
            " dense_1 (Dense)                (None, 64)           16448       ['dropout_3[0][0]']              \n",
            "                                                                                                  \n",
            " dense_2 (Dense)                (None, 64)           4160        ['dense_1[0][0]']                \n",
            "                                                                                                  \n",
            " dense_3_mitbih (Dense)         (None, 5)            325         ['dense_2[0][0]']                \n",
            "                                                                                                  \n",
            " dense_physical (Dense)         (None, 5)            325         ['dense_1[0][0]']                \n",
            "                                                                                                  \n",
            "==================================================================================================\n",
            "Total params: 255,226\n",
            "Trainable params: 255,226\n",
            "Non-trainable params: 0\n",
            "__________________________________________________________________________________________________\n",
            "Epoch 1/1000\n",
            "\n",
            "Epoch 1: val_dense_3_mitbih_acc improved from -inf to 0.92736, saving model to modified_loss_mitbih.h5\n",
            "2463/2463 - 22s - loss: 4.7616 - dense_3_mitbih_loss: 0.3871 - dense_physical_loss: 4.3745 - dense_3_mitbih_acc: 0.8879 - dense_physical_mse: 4.3745 - val_loss: 4.6201 - val_dense_3_mitbih_loss: 0.2688 - val_dense_physical_loss: 4.3513 - val_dense_3_mitbih_acc: 0.9274 - val_dense_physical_mse: 4.3513 - lr: 0.0010 - 22s/epoch - 9ms/step\n",
            "Epoch 2/1000\n",
            "\n",
            "Epoch 2: val_dense_3_mitbih_acc improved from 0.92736 to 0.95820, saving model to modified_loss_mitbih.h5\n",
            "2463/2463 - 16s - loss: 1.4633 - dense_3_mitbih_loss: 0.2280 - dense_physical_loss: 1.2353 - dense_3_mitbih_acc: 0.9366 - dense_physical_mse: 1.2353 - val_loss: 0.1743 - val_dense_3_mitbih_loss: 0.1503 - val_dense_physical_loss: 0.0239 - val_dense_3_mitbih_acc: 0.9582 - val_dense_physical_mse: 0.0239 - lr: 0.0010 - 16s/epoch - 7ms/step\n",
            "Epoch 3/1000\n",
            "\n",
            "Epoch 3: val_dense_3_mitbih_acc improved from 0.95820 to 0.96654, saving model to modified_loss_mitbih.h5\n",
            "2463/2463 - 15s - loss: 0.1931 - dense_3_mitbih_loss: 0.1611 - dense_physical_loss: 0.0320 - dense_3_mitbih_acc: 0.9543 - dense_physical_mse: 0.0320 - val_loss: 0.1354 - val_dense_3_mitbih_loss: 0.1158 - val_dense_physical_loss: 0.0196 - val_dense_3_mitbih_acc: 0.9665 - val_dense_physical_mse: 0.0196 - lr: 0.0010 - 15s/epoch - 6ms/step\n",
            "Epoch 4/1000\n",
            "\n",
            "Epoch 4: val_dense_3_mitbih_acc improved from 0.96654 to 0.97213, saving model to modified_loss_mitbih.h5\n",
            "2463/2463 - 15s - loss: 0.1546 - dense_3_mitbih_loss: 0.1290 - dense_physical_loss: 0.0256 - dense_3_mitbih_acc: 0.9635 - dense_physical_mse: 0.0256 - val_loss: 0.1156 - val_dense_3_mitbih_loss: 0.0983 - val_dense_physical_loss: 0.0172 - val_dense_3_mitbih_acc: 0.9721 - val_dense_physical_mse: 0.0172 - lr: 0.0010 - 15s/epoch - 6ms/step\n",
            "Epoch 5/1000\n",
            "\n",
            "Epoch 5: val_dense_3_mitbih_acc improved from 0.97213 to 0.97499, saving model to modified_loss_mitbih.h5\n",
            "2463/2463 - 15s - loss: 0.1389 - dense_3_mitbih_loss: 0.1155 - dense_physical_loss: 0.0234 - dense_3_mitbih_acc: 0.9673 - dense_physical_mse: 0.0234 - val_loss: 0.1064 - val_dense_3_mitbih_loss: 0.0890 - val_dense_physical_loss: 0.0175 - val_dense_3_mitbih_acc: 0.9750 - val_dense_physical_mse: 0.0175 - lr: 0.0010 - 15s/epoch - 6ms/step\n",
            "Epoch 6/1000\n",
            "\n",
            "Epoch 6: val_dense_3_mitbih_acc improved from 0.97499 to 0.97682, saving model to modified_loss_mitbih.h5\n",
            "2463/2463 - 15s - loss: 0.1249 - dense_3_mitbih_loss: 0.1026 - dense_physical_loss: 0.0222 - dense_3_mitbih_acc: 0.9714 - dense_physical_mse: 0.0222 - val_loss: 0.0961 - val_dense_3_mitbih_loss: 0.0798 - val_dense_physical_loss: 0.0163 - val_dense_3_mitbih_acc: 0.9768 - val_dense_physical_mse: 0.0163 - lr: 0.0010 - 15s/epoch - 6ms/step\n",
            "Epoch 7/1000\n",
            "\n",
            "Epoch 7: val_dense_3_mitbih_acc improved from 0.97682 to 0.98013, saving model to modified_loss_mitbih.h5\n",
            "2463/2463 - 19s - loss: 0.1159 - dense_3_mitbih_loss: 0.0944 - dense_physical_loss: 0.0214 - dense_3_mitbih_acc: 0.9734 - dense_physical_mse: 0.0214 - val_loss: 0.0911 - val_dense_3_mitbih_loss: 0.0740 - val_dense_physical_loss: 0.0171 - val_dense_3_mitbih_acc: 0.9801 - val_dense_physical_mse: 0.0171 - lr: 0.0010 - 19s/epoch - 8ms/step\n",
            "Epoch 8/1000\n",
            "\n",
            "Epoch 8: val_dense_3_mitbih_acc did not improve from 0.98013\n",
            "2463/2463 - 15s - loss: 0.1077 - dense_3_mitbih_loss: 0.0870 - dense_physical_loss: 0.0207 - dense_3_mitbih_acc: 0.9753 - dense_physical_mse: 0.0207 - val_loss: 0.0965 - val_dense_3_mitbih_loss: 0.0803 - val_dense_physical_loss: 0.0162 - val_dense_3_mitbih_acc: 0.9785 - val_dense_physical_mse: 0.0162 - lr: 0.0010 - 15s/epoch - 6ms/step\n",
            "Epoch 9/1000\n",
            "\n",
            "Epoch 9: val_dense_3_mitbih_acc did not improve from 0.98013\n",
            "2463/2463 - 15s - loss: 0.1010 - dense_3_mitbih_loss: 0.0809 - dense_physical_loss: 0.0201 - dense_3_mitbih_acc: 0.9767 - dense_physical_mse: 0.0201 - val_loss: 0.0851 - val_dense_3_mitbih_loss: 0.0700 - val_dense_physical_loss: 0.0150 - val_dense_3_mitbih_acc: 0.9797 - val_dense_physical_mse: 0.0150 - lr: 0.0010 - 15s/epoch - 6ms/step\n",
            "Epoch 10/1000\n",
            "\n",
            "Epoch 10: val_dense_3_mitbih_acc improved from 0.98013 to 0.98161, saving model to modified_loss_mitbih.h5\n",
            "2463/2463 - 20s - loss: 0.0968 - dense_3_mitbih_loss: 0.0773 - dense_physical_loss: 0.0195 - dense_3_mitbih_acc: 0.9773 - dense_physical_mse: 0.0195 - val_loss: 0.0764 - val_dense_3_mitbih_loss: 0.0615 - val_dense_physical_loss: 0.0149 - val_dense_3_mitbih_acc: 0.9816 - val_dense_physical_mse: 0.0149 - lr: 0.0010 - 20s/epoch - 8ms/step\n",
            "Epoch 11/1000\n",
            "\n",
            "Epoch 11: val_dense_3_mitbih_acc improved from 0.98161 to 0.98241, saving model to modified_loss_mitbih.h5\n",
            "2463/2463 - 15s - loss: 0.0914 - dense_3_mitbih_loss: 0.0725 - dense_physical_loss: 0.0188 - dense_3_mitbih_acc: 0.9784 - dense_physical_mse: 0.0188 - val_loss: 0.0806 - val_dense_3_mitbih_loss: 0.0630 - val_dense_physical_loss: 0.0176 - val_dense_3_mitbih_acc: 0.9824 - val_dense_physical_mse: 0.0176 - lr: 0.0010 - 15s/epoch - 6ms/step\n",
            "Epoch 12/1000\n",
            "\n",
            "Epoch 12: val_dense_3_mitbih_acc improved from 0.98241 to 0.98367, saving model to modified_loss_mitbih.h5\n",
            "2463/2463 - 15s - loss: 0.0885 - dense_3_mitbih_loss: 0.0698 - dense_physical_loss: 0.0187 - dense_3_mitbih_acc: 0.9791 - dense_physical_mse: 0.0187 - val_loss: 0.0688 - val_dense_3_mitbih_loss: 0.0541 - val_dense_physical_loss: 0.0147 - val_dense_3_mitbih_acc: 0.9837 - val_dense_physical_mse: 0.0147 - lr: 0.0010 - 15s/epoch - 6ms/step\n",
            "Epoch 13/1000\n",
            "\n",
            "Epoch 13: val_dense_3_mitbih_acc did not improve from 0.98367\n",
            "2463/2463 - 15s - loss: 0.0836 - dense_3_mitbih_loss: 0.0652 - dense_physical_loss: 0.0184 - dense_3_mitbih_acc: 0.9802 - dense_physical_mse: 0.0184 - val_loss: 0.0726 - val_dense_3_mitbih_loss: 0.0578 - val_dense_physical_loss: 0.0148 - val_dense_3_mitbih_acc: 0.9833 - val_dense_physical_mse: 0.0148 - lr: 0.0010 - 15s/epoch - 6ms/step\n",
            "Epoch 14/1000\n",
            "\n",
            "Epoch 14: val_dense_3_mitbih_acc did not improve from 0.98367\n",
            "2463/2463 - 16s - loss: 0.0826 - dense_3_mitbih_loss: 0.0645 - dense_physical_loss: 0.0181 - dense_3_mitbih_acc: 0.9807 - dense_physical_mse: 0.0181 - val_loss: 0.0786 - val_dense_3_mitbih_loss: 0.0639 - val_dense_physical_loss: 0.0148 - val_dense_3_mitbih_acc: 0.9822 - val_dense_physical_mse: 0.0148 - lr: 0.0010 - 16s/epoch - 6ms/step\n",
            "Epoch 15/1000\n",
            "\n",
            "Epoch 15: val_dense_3_mitbih_acc improved from 0.98367 to 0.98435, saving model to modified_loss_mitbih.h5\n",
            "2463/2463 - 17s - loss: 0.0798 - dense_3_mitbih_loss: 0.0621 - dense_physical_loss: 0.0177 - dense_3_mitbih_acc: 0.9812 - dense_physical_mse: 0.0177 - val_loss: 0.0640 - val_dense_3_mitbih_loss: 0.0506 - val_dense_physical_loss: 0.0133 - val_dense_3_mitbih_acc: 0.9844 - val_dense_physical_mse: 0.0133 - lr: 0.0010 - 17s/epoch - 7ms/step\n",
            "Epoch 16/1000\n",
            "\n",
            "Epoch 16: val_dense_3_mitbih_acc improved from 0.98435 to 0.98458, saving model to modified_loss_mitbih.h5\n",
            "2463/2463 - 15s - loss: 0.0787 - dense_3_mitbih_loss: 0.0607 - dense_physical_loss: 0.0179 - dense_3_mitbih_acc: 0.9819 - dense_physical_mse: 0.0179 - val_loss: 0.0657 - val_dense_3_mitbih_loss: 0.0516 - val_dense_physical_loss: 0.0141 - val_dense_3_mitbih_acc: 0.9846 - val_dense_physical_mse: 0.0141 - lr: 0.0010 - 15s/epoch - 6ms/step\n",
            "Epoch 17/1000\n",
            "\n",
            "Epoch 17: val_dense_3_mitbih_acc improved from 0.98458 to 0.98492, saving model to modified_loss_mitbih.h5\n",
            "2463/2463 - 17s - loss: 0.0766 - dense_3_mitbih_loss: 0.0593 - dense_physical_loss: 0.0173 - dense_3_mitbih_acc: 0.9824 - dense_physical_mse: 0.0173 - val_loss: 0.0674 - val_dense_3_mitbih_loss: 0.0524 - val_dense_physical_loss: 0.0151 - val_dense_3_mitbih_acc: 0.9849 - val_dense_physical_mse: 0.0151 - lr: 0.0010 - 17s/epoch - 7ms/step\n",
            "Epoch 18/1000\n",
            "\n",
            "Epoch 18: val_dense_3_mitbih_acc improved from 0.98492 to 0.98652, saving model to modified_loss_mitbih.h5\n",
            "2463/2463 - 15s - loss: 0.0739 - dense_3_mitbih_loss: 0.0564 - dense_physical_loss: 0.0175 - dense_3_mitbih_acc: 0.9829 - dense_physical_mse: 0.0175 - val_loss: 0.0602 - val_dense_3_mitbih_loss: 0.0465 - val_dense_physical_loss: 0.0137 - val_dense_3_mitbih_acc: 0.9865 - val_dense_physical_mse: 0.0137 - lr: 0.0010 - 15s/epoch - 6ms/step\n",
            "Epoch 19/1000\n",
            "\n",
            "Epoch 19: val_dense_3_mitbih_acc did not improve from 0.98652\n",
            "2463/2463 - 15s - loss: 0.0742 - dense_3_mitbih_loss: 0.0567 - dense_physical_loss: 0.0175 - dense_3_mitbih_acc: 0.9826 - dense_physical_mse: 0.0175 - val_loss: 0.0615 - val_dense_3_mitbih_loss: 0.0476 - val_dense_physical_loss: 0.0140 - val_dense_3_mitbih_acc: 0.9856 - val_dense_physical_mse: 0.0140 - lr: 0.0010 - 15s/epoch - 6ms/step\n",
            "Epoch 20/1000\n",
            "\n",
            "Epoch 20: val_dense_3_mitbih_acc improved from 0.98652 to 0.98744, saving model to modified_loss_mitbih.h5\n",
            "2463/2463 - 15s - loss: 0.0716 - dense_3_mitbih_loss: 0.0547 - dense_physical_loss: 0.0169 - dense_3_mitbih_acc: 0.9837 - dense_physical_mse: 0.0169 - val_loss: 0.0595 - val_dense_3_mitbih_loss: 0.0459 - val_dense_physical_loss: 0.0137 - val_dense_3_mitbih_acc: 0.9874 - val_dense_physical_mse: 0.0137 - lr: 0.0010 - 15s/epoch - 6ms/step\n",
            "Epoch 21/1000\n",
            "\n",
            "Epoch 21: val_dense_3_mitbih_acc did not improve from 0.98744\n",
            "2463/2463 - 15s - loss: 0.0705 - dense_3_mitbih_loss: 0.0532 - dense_physical_loss: 0.0172 - dense_3_mitbih_acc: 0.9837 - dense_physical_mse: 0.0172 - val_loss: 0.0664 - val_dense_3_mitbih_loss: 0.0524 - val_dense_physical_loss: 0.0139 - val_dense_3_mitbih_acc: 0.9846 - val_dense_physical_mse: 0.0139 - lr: 0.0010 - 15s/epoch - 6ms/step\n",
            "Epoch 22/1000\n",
            "\n",
            "Epoch 22: val_dense_3_mitbih_acc did not improve from 0.98744\n",
            "2463/2463 - 16s - loss: 0.0684 - dense_3_mitbih_loss: 0.0514 - dense_physical_loss: 0.0170 - dense_3_mitbih_acc: 0.9840 - dense_physical_mse: 0.0170 - val_loss: 0.0630 - val_dense_3_mitbih_loss: 0.0486 - val_dense_physical_loss: 0.0144 - val_dense_3_mitbih_acc: 0.9863 - val_dense_physical_mse: 0.0144 - lr: 0.0010 - 16s/epoch - 6ms/step\n",
            "Epoch 23/1000\n",
            "\n",
            "Epoch 23: val_dense_3_mitbih_acc did not improve from 0.98744\n",
            "\n",
            "Epoch 23: ReduceLROnPlateau reducing learning rate to 0.00010000000474974513.\n",
            "2463/2463 - 17s - loss: 0.0671 - dense_3_mitbih_loss: 0.0501 - dense_physical_loss: 0.0171 - dense_3_mitbih_acc: 0.9844 - dense_physical_mse: 0.0171 - val_loss: 0.0599 - val_dense_3_mitbih_loss: 0.0467 - val_dense_physical_loss: 0.0132 - val_dense_3_mitbih_acc: 0.9866 - val_dense_physical_mse: 0.0132 - lr: 0.0010 - 17s/epoch - 7ms/step\n",
            "Epoch 24/1000\n",
            "\n",
            "Epoch 24: val_dense_3_mitbih_acc improved from 0.98744 to 0.98847, saving model to modified_loss_mitbih.h5\n",
            "2463/2463 - 16s - loss: 0.0506 - dense_3_mitbih_loss: 0.0361 - dense_physical_loss: 0.0144 - dense_3_mitbih_acc: 0.9887 - dense_physical_mse: 0.0144 - val_loss: 0.0496 - val_dense_3_mitbih_loss: 0.0384 - val_dense_physical_loss: 0.0112 - val_dense_3_mitbih_acc: 0.9885 - val_dense_physical_mse: 0.0112 - lr: 1.0000e-04 - 16s/epoch - 6ms/step\n",
            "Epoch 25/1000\n",
            "\n",
            "Epoch 25: val_dense_3_mitbih_acc improved from 0.98847 to 0.98892, saving model to modified_loss_mitbih.h5\n",
            "2463/2463 - 15s - loss: 0.0457 - dense_3_mitbih_loss: 0.0319 - dense_physical_loss: 0.0138 - dense_3_mitbih_acc: 0.9901 - dense_physical_mse: 0.0138 - val_loss: 0.0479 - val_dense_3_mitbih_loss: 0.0369 - val_dense_physical_loss: 0.0110 - val_dense_3_mitbih_acc: 0.9889 - val_dense_physical_mse: 0.0110 - lr: 1.0000e-04 - 15s/epoch - 6ms/step\n",
            "Epoch 26/1000\n",
            "\n",
            "Epoch 26: val_dense_3_mitbih_acc did not improve from 0.98892\n",
            "2463/2463 - 15s - loss: 0.0444 - dense_3_mitbih_loss: 0.0308 - dense_physical_loss: 0.0136 - dense_3_mitbih_acc: 0.9900 - dense_physical_mse: 0.0136 - val_loss: 0.0482 - val_dense_3_mitbih_loss: 0.0374 - val_dense_physical_loss: 0.0109 - val_dense_3_mitbih_acc: 0.9885 - val_dense_physical_mse: 0.0109 - lr: 1.0000e-04 - 15s/epoch - 6ms/step\n",
            "Epoch 27/1000\n",
            "\n",
            "Epoch 27: val_dense_3_mitbih_acc improved from 0.98892 to 0.98904, saving model to modified_loss_mitbih.h5\n",
            "2463/2463 - 16s - loss: 0.0427 - dense_3_mitbih_loss: 0.0293 - dense_physical_loss: 0.0134 - dense_3_mitbih_acc: 0.9906 - dense_physical_mse: 0.0134 - val_loss: 0.0471 - val_dense_3_mitbih_loss: 0.0361 - val_dense_physical_loss: 0.0110 - val_dense_3_mitbih_acc: 0.9890 - val_dense_physical_mse: 0.0110 - lr: 1.0000e-04 - 16s/epoch - 6ms/step\n",
            "Epoch 28/1000\n",
            "\n",
            "Epoch 28: val_dense_3_mitbih_acc improved from 0.98904 to 0.99006, saving model to modified_loss_mitbih.h5\n",
            "2463/2463 - 15s - loss: 0.0418 - dense_3_mitbih_loss: 0.0285 - dense_physical_loss: 0.0133 - dense_3_mitbih_acc: 0.9910 - dense_physical_mse: 0.0133 - val_loss: 0.0461 - val_dense_3_mitbih_loss: 0.0353 - val_dense_physical_loss: 0.0108 - val_dense_3_mitbih_acc: 0.9901 - val_dense_physical_mse: 0.0108 - lr: 1.0000e-04 - 15s/epoch - 6ms/step\n",
            "Epoch 29/1000\n",
            "\n",
            "Epoch 29: val_dense_3_mitbih_acc did not improve from 0.99006\n",
            "2463/2463 - 15s - loss: 0.0403 - dense_3_mitbih_loss: 0.0270 - dense_physical_loss: 0.0133 - dense_3_mitbih_acc: 0.9912 - dense_physical_mse: 0.0133 - val_loss: 0.0456 - val_dense_3_mitbih_loss: 0.0352 - val_dense_physical_loss: 0.0104 - val_dense_3_mitbih_acc: 0.9899 - val_dense_physical_mse: 0.0104 - lr: 1.0000e-04 - 15s/epoch - 6ms/step\n",
            "Epoch 30/1000\n",
            "\n",
            "Epoch 30: val_dense_3_mitbih_acc improved from 0.99006 to 0.99029, saving model to modified_loss_mitbih.h5\n",
            "2463/2463 - 15s - loss: 0.0393 - dense_3_mitbih_loss: 0.0262 - dense_physical_loss: 0.0131 - dense_3_mitbih_acc: 0.9915 - dense_physical_mse: 0.0131 - val_loss: 0.0458 - val_dense_3_mitbih_loss: 0.0352 - val_dense_physical_loss: 0.0106 - val_dense_3_mitbih_acc: 0.9903 - val_dense_physical_mse: 0.0106 - lr: 1.0000e-04 - 15s/epoch - 6ms/step\n",
            "Epoch 31/1000\n",
            "\n",
            "Epoch 31: val_dense_3_mitbih_acc did not improve from 0.99029\n",
            "2463/2463 - 17s - loss: 0.0392 - dense_3_mitbih_loss: 0.0262 - dense_physical_loss: 0.0130 - dense_3_mitbih_acc: 0.9915 - dense_physical_mse: 0.0130 - val_loss: 0.0456 - val_dense_3_mitbih_loss: 0.0352 - val_dense_physical_loss: 0.0105 - val_dense_3_mitbih_acc: 0.9898 - val_dense_physical_mse: 0.0105 - lr: 1.0000e-04 - 17s/epoch - 7ms/step\n",
            "Epoch 32/1000\n",
            "\n",
            "Epoch 32: val_dense_3_mitbih_acc improved from 0.99029 to 0.99041, saving model to modified_loss_mitbih.h5\n",
            "2463/2463 - 16s - loss: 0.0379 - dense_3_mitbih_loss: 0.0250 - dense_physical_loss: 0.0129 - dense_3_mitbih_acc: 0.9920 - dense_physical_mse: 0.0129 - val_loss: 0.0455 - val_dense_3_mitbih_loss: 0.0351 - val_dense_physical_loss: 0.0105 - val_dense_3_mitbih_acc: 0.9904 - val_dense_physical_mse: 0.0105 - lr: 1.0000e-04 - 16s/epoch - 6ms/step\n",
            "Epoch 33/1000\n",
            "\n",
            "Epoch 33: val_dense_3_mitbih_acc did not improve from 0.99041\n",
            "2463/2463 - 15s - loss: 0.0380 - dense_3_mitbih_loss: 0.0252 - dense_physical_loss: 0.0128 - dense_3_mitbih_acc: 0.9917 - dense_physical_mse: 0.0128 - val_loss: 0.0449 - val_dense_3_mitbih_loss: 0.0346 - val_dense_physical_loss: 0.0103 - val_dense_3_mitbih_acc: 0.9902 - val_dense_physical_mse: 0.0103 - lr: 1.0000e-04 - 15s/epoch - 6ms/step\n",
            "Epoch 34/1000\n",
            "\n",
            "Epoch 34: val_dense_3_mitbih_acc improved from 0.99041 to 0.99063, saving model to modified_loss_mitbih.h5\n",
            "2463/2463 - 15s - loss: 0.0369 - dense_3_mitbih_loss: 0.0242 - dense_physical_loss: 0.0127 - dense_3_mitbih_acc: 0.9918 - dense_physical_mse: 0.0127 - val_loss: 0.0454 - val_dense_3_mitbih_loss: 0.0351 - val_dense_physical_loss: 0.0103 - val_dense_3_mitbih_acc: 0.9906 - val_dense_physical_mse: 0.0103 - lr: 1.0000e-04 - 15s/epoch - 6ms/step\n",
            "Epoch 35/1000\n",
            "\n",
            "Epoch 35: val_dense_3_mitbih_acc improved from 0.99063 to 0.99075, saving model to modified_loss_mitbih.h5\n",
            "2463/2463 - 15s - loss: 0.0371 - dense_3_mitbih_loss: 0.0244 - dense_physical_loss: 0.0127 - dense_3_mitbih_acc: 0.9917 - dense_physical_mse: 0.0127 - val_loss: 0.0443 - val_dense_3_mitbih_loss: 0.0339 - val_dense_physical_loss: 0.0105 - val_dense_3_mitbih_acc: 0.9907 - val_dense_physical_mse: 0.0105 - lr: 1.0000e-04 - 15s/epoch - 6ms/step\n",
            "Epoch 36/1000\n",
            "\n",
            "Epoch 36: val_dense_3_mitbih_acc did not improve from 0.99075\n",
            "2463/2463 - 16s - loss: 0.0363 - dense_3_mitbih_loss: 0.0237 - dense_physical_loss: 0.0126 - dense_3_mitbih_acc: 0.9919 - dense_physical_mse: 0.0126 - val_loss: 0.0463 - val_dense_3_mitbih_loss: 0.0357 - val_dense_physical_loss: 0.0106 - val_dense_3_mitbih_acc: 0.9905 - val_dense_physical_mse: 0.0106 - lr: 1.0000e-04 - 16s/epoch - 6ms/step\n",
            "Epoch 37/1000\n",
            "\n",
            "Epoch 37: val_dense_3_mitbih_acc improved from 0.99075 to 0.99132, saving model to modified_loss_mitbih.h5\n",
            "2463/2463 - 15s - loss: 0.0352 - dense_3_mitbih_loss: 0.0226 - dense_physical_loss: 0.0126 - dense_3_mitbih_acc: 0.9927 - dense_physical_mse: 0.0126 - val_loss: 0.0438 - val_dense_3_mitbih_loss: 0.0334 - val_dense_physical_loss: 0.0104 - val_dense_3_mitbih_acc: 0.9913 - val_dense_physical_mse: 0.0104 - lr: 1.0000e-04 - 15s/epoch - 6ms/step\n",
            "Epoch 38/1000\n",
            "\n",
            "Epoch 38: val_dense_3_mitbih_acc did not improve from 0.99132\n",
            "2463/2463 - 16s - loss: 0.0360 - dense_3_mitbih_loss: 0.0235 - dense_physical_loss: 0.0125 - dense_3_mitbih_acc: 0.9921 - dense_physical_mse: 0.0125 - val_loss: 0.0465 - val_dense_3_mitbih_loss: 0.0361 - val_dense_physical_loss: 0.0104 - val_dense_3_mitbih_acc: 0.9903 - val_dense_physical_mse: 0.0104 - lr: 1.0000e-04 - 16s/epoch - 6ms/step\n",
            "Epoch 39/1000\n",
            "\n",
            "Epoch 39: val_dense_3_mitbih_acc did not improve from 0.99132\n",
            "2463/2463 - 16s - loss: 0.0361 - dense_3_mitbih_loss: 0.0237 - dense_physical_loss: 0.0124 - dense_3_mitbih_acc: 0.9919 - dense_physical_mse: 0.0124 - val_loss: 0.0441 - val_dense_3_mitbih_loss: 0.0338 - val_dense_physical_loss: 0.0102 - val_dense_3_mitbih_acc: 0.9903 - val_dense_physical_mse: 0.0102 - lr: 1.0000e-04 - 16s/epoch - 6ms/step\n",
            "Epoch 40/1000\n",
            "\n",
            "Epoch 40: val_dense_3_mitbih_acc did not improve from 0.99132\n",
            "\n",
            "Epoch 40: ReduceLROnPlateau reducing learning rate to 1.0000000474974514e-05.\n",
            "2463/2463 - 16s - loss: 0.0356 - dense_3_mitbih_loss: 0.0231 - dense_physical_loss: 0.0124 - dense_3_mitbih_acc: 0.9923 - dense_physical_mse: 0.0124 - val_loss: 0.0443 - val_dense_3_mitbih_loss: 0.0343 - val_dense_physical_loss: 0.0099 - val_dense_3_mitbih_acc: 0.9910 - val_dense_physical_mse: 0.0099 - lr: 1.0000e-04 - 16s/epoch - 7ms/step\n",
            "Epoch 41/1000\n",
            "\n",
            "Epoch 41: val_dense_3_mitbih_acc did not improve from 0.99132\n",
            "2463/2463 - 15s - loss: 0.0339 - dense_3_mitbih_loss: 0.0217 - dense_physical_loss: 0.0122 - dense_3_mitbih_acc: 0.9929 - dense_physical_mse: 0.0122 - val_loss: 0.0437 - val_dense_3_mitbih_loss: 0.0338 - val_dense_physical_loss: 0.0100 - val_dense_3_mitbih_acc: 0.9907 - val_dense_physical_mse: 0.0100 - lr: 1.0000e-05 - 15s/epoch - 6ms/step\n",
            "Epoch 42/1000\n",
            "\n",
            "Epoch 42: val_dense_3_mitbih_acc did not improve from 0.99132\n",
            "2463/2463 - 15s - loss: 0.0322 - dense_3_mitbih_loss: 0.0200 - dense_physical_loss: 0.0122 - dense_3_mitbih_acc: 0.9931 - dense_physical_mse: 0.0122 - val_loss: 0.0435 - val_dense_3_mitbih_loss: 0.0335 - val_dense_physical_loss: 0.0100 - val_dense_3_mitbih_acc: 0.9909 - val_dense_physical_mse: 0.0100 - lr: 1.0000e-05 - 15s/epoch - 6ms/step\n",
            "Epoch 42: early stopping\n"
          ]
        }
      ],
      "source": [
        "model = get_model()\n",
        "file_path = \"modified_loss_mitbih.h5\"\n",
        "checkpoint = ModelCheckpoint(file_path, monitor='val_dense_3_mitbih_acc', verbose=1, save_best_only=True, mode='max')\n",
        "early = EarlyStopping(monitor=\"val_dense_3_mitbih_acc\", mode=\"max\", patience=5, verbose=1)\n",
        "redonplat = ReduceLROnPlateau(monitor=\"val_dense_3_mitbih_acc\", mode=\"max\", patience=3, verbose=2)\n",
        "callbacks_list = [checkpoint, early, redonplat]  # early\n",
        "\n",
        "history = model.fit(X, [Y, Y_physical], epochs=1000, verbose=2, callbacks=callbacks_list, validation_split=0.1)\n",
        "model.load_weights(file_path)\n"
      ]
    },
    {
      "cell_type": "code",
      "execution_count": null,
      "metadata": {
        "colab": {
          "base_uri": "https://localhost:8080/"
        },
        "id": "sTXYfl5PAjp9",
        "outputId": "bc670ec5-571a-4644-d76d-c5d97f449602"
      },
      "outputs": [
        {
          "output_type": "stream",
          "name": "stdout",
          "text": [
            "Test f1 score : 0.9213840610602592 \n",
            "Test accuracy score : 0.9868901881966015 \n"
          ]
        }
      ],
      "source": [
        "pred_test, _ = model.predict(X_test)\n",
        "pred_test = np.argmax(pred_test, axis=-1)\n",
        "\n",
        "f1 = f1_score(Y_test, pred_test, average=\"macro\")\n",
        "\n",
        "print(\"Test f1 score : %s \"% f1)\n",
        "\n",
        "acc = accuracy_score(Y_test, pred_test)\n",
        "\n",
        "print(\"Test accuracy score : %s \"% acc)"
      ]
    },
    {
      "cell_type": "code",
      "source": [
        "from sklearn.metrics import precision_recall_fscore_support as score\n",
        "\n",
        "precision, recall, fscore, support = score(Y_test, pred_test)\n",
        "print(\"Precision : %s, %s\" % (np.mean(precision), precision))\n",
        "print(\"Recall : %s, %s\" % (np.mean(recall), recall))\n",
        "print(\"F1 Score : %s, %s\" % (np.mean(fscore), fscore))"
      ],
      "metadata": {
        "colab": {
          "base_uri": "https://localhost:8080/"
        },
        "id": "sNGL_cEkpMAC",
        "outputId": "a3ba7944-3518-4abd-b618-1aeb23a492dc"
      },
      "execution_count": null,
      "outputs": [
        {
          "output_type": "stream",
          "name": "stdout",
          "text": [
            "Precision : 0.9384021755321917, [0.99061986 0.91515152 0.97243816 0.81818182 0.99561952]\n",
            "Recall : 0.9057947305875045, [0.99674357 0.8147482  0.95027624 0.77777778 0.98942786]\n",
            "F1 Score : 0.9213840610602592, [0.99367228 0.86203616 0.96122948 0.79746835 0.99251404]\n"
          ]
        }
      ]
    },
    {
      "cell_type": "code",
      "execution_count": null,
      "metadata": {
        "id": "1YDIx-y4AlYA"
      },
      "outputs": [],
      "source": [
        "df = pd.DataFrame(history.history)\n",
        "df.to_csv('/content/drive/MyDrive/[Project] 윤정현 - ECG/Result/model2_0930.csv')"
      ]
    },
    {
      "cell_type": "code",
      "source": [
        "len(Y_test[Y_test==0]) / len(Y_test)"
      ],
      "metadata": {
        "colab": {
          "base_uri": "https://localhost:8080/"
        },
        "id": "g6VNbnKPsfAV",
        "outputId": "ff1e3849-e13e-40b8-b03e-7dae949d9b22"
      },
      "execution_count": null,
      "outputs": [
        {
          "output_type": "execute_result",
          "data": {
            "text/plain": [
              "0.8276082587246483"
            ]
          },
          "metadata": {},
          "execution_count": 13
        }
      ]
    },
    {
      "cell_type": "code",
      "source": [],
      "metadata": {
        "id": "2uGy9Q2Vqkgr"
      },
      "execution_count": null,
      "outputs": []
    }
  ],
  "metadata": {
    "colab": {
      "collapsed_sections": [],
      "provenance": [],
      "include_colab_link": true
    },
    "kernelspec": {
      "display_name": "Python 3",
      "name": "python3"
    },
    "language_info": {
      "name": "python"
    },
    "accelerator": "GPU",
    "gpuClass": "standard"
  },
  "nbformat": 4,
  "nbformat_minor": 0
}